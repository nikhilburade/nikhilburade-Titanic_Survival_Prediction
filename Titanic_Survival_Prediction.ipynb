{
 "cells": [
  {
   "cell_type": "markdown",
   "id": "06772912",
   "metadata": {},
   "source": [
    "# Titanic Mini-Project\n",
    "This project demonstrates data preprocessing, analysis, visualization, and a basic machine learning model using a sample Titanic dataset."
   ]
  },
  {
   "cell_type": "code",
   "execution_count": null,
   "id": "3f71c3ee",
   "metadata": {},
   "outputs": [],
   "source": [
    "# Import necessary libraries\n",
    "import pandas as pd\n",
    "import seaborn as sns\n",
    "import matplotlib.pyplot as plt\n",
    "from sklearn.model_selection import train_test_split\n",
    "from sklearn.linear_model import LogisticRegression\n",
    "from sklearn.metrics import classification_report, accuracy_score\n"
   ]
  },
  {
   "cell_type": "markdown",
   "id": "cc90d3c8",
   "metadata": {},
   "source": [
    "## Step 1: Load Dataset"
   ]
  },
  {
   "cell_type": "code",
   "execution_count": null,
   "id": "21637223",
   "metadata": {},
   "outputs": [],
   "source": [
    "# Load the sample dataset\n",
    "df = pd.read_csv(\"sample_titanic.csv\")\n",
    "df.head()"
   ]
  },
  {
   "cell_type": "markdown",
   "id": "51b32d3b",
   "metadata": {},
   "source": [
    "## Step 2: Data Cleaning & Preprocessing"
   ]
  },
  {
   "cell_type": "code",
   "execution_count": null,
   "id": "bcb92498",
   "metadata": {},
   "outputs": [],
   "source": [
    "# Remove duplicates\n",
    "df.drop_duplicates(inplace=True)\n",
    "\n",
    "# Fill missing values if any (here we don't have any in this small dataset)\n",
    "df.dropna(inplace=True)\n",
    "\n",
    "# Convert categorical columns to numerical\n",
    "df['sex'] = df['sex'].map({'male': 0, 'female': 1})\n",
    "df['embarked'] = df['embarked'].map({'S': 0, 'C': 1, 'Q': 2})\n",
    "\n",
    "df.head()"
   ]
  },
  {
   "cell_type": "markdown",
   "id": "577caa48",
   "metadata": {},
   "source": [
    "## Step 3: Exploratory Data Analysis (EDA)"
   ]
  },
  {
   "cell_type": "code",
   "execution_count": null,
   "id": "fbd050b5",
   "metadata": {},
   "outputs": [],
   "source": [
    "# Summary statistics\n",
    "df.describe()"
   ]
  },
  {
   "cell_type": "code",
   "execution_count": null,
   "id": "e8318ed0",
   "metadata": {},
   "outputs": [],
   "source": [
    "# Correlation analysis\n",
    "df.corr(numeric_only=True)"
   ]
  },
  {
   "cell_type": "markdown",
   "id": "407c5f45",
   "metadata": {},
   "source": [
    "## Step 4: Visualization"
   ]
  },
  {
   "cell_type": "code",
   "execution_count": null,
   "id": "6008f823",
   "metadata": {},
   "outputs": [],
   "source": [
    "# Survival Count\n",
    "sns.countplot(x='survived', data=df)\n",
    "plt.title('Survival Count')\n",
    "plt.show()"
   ]
  },
  {
   "cell_type": "code",
   "execution_count": null,
   "id": "86750a44",
   "metadata": {},
   "outputs": [],
   "source": [
    "# Age Distribution\n",
    "sns.histplot(df['age'], kde=True)\n",
    "plt.title('Age Distribution')\n",
    "plt.show()"
   ]
  },
  {
   "cell_type": "code",
   "execution_count": null,
   "id": "0bb5c568",
   "metadata": {},
   "outputs": [],
   "source": [
    "# Fare vs Class\n",
    "sns.boxplot(x='pclass', y='fare', data=df)\n",
    "plt.title('Fare vs Passenger Class')\n",
    "plt.show()"
   ]
  },
  {
   "cell_type": "markdown",
   "id": "29f6a4cc",
   "metadata": {},
   "source": [
    "## Step 5: Basic Model Implementation - Logistic Regression"
   ]
  },
  {
   "cell_type": "code",
   "execution_count": null,
   "id": "651d4323",
   "metadata": {},
   "outputs": [],
   "source": [
    "# Features and Target\n",
    "X = df[['pclass', 'sex', 'age', 'sibsp', 'parch', 'fare', 'embarked']]\n",
    "y = df['survived']\n",
    "\n",
    "# Train-test split\n",
    "X_train, X_test, y_train, y_test = train_test_split(X, y, test_size=0.2, random_state=42)\n",
    "\n",
    "# Logistic Regression\n",
    "model = LogisticRegression(max_iter=200)\n",
    "model.fit(X_train, y_train)\n",
    "\n",
    "# Prediction\n",
    "y_pred = model.predict(X_test)\n",
    "\n",
    "# Evaluation\n",
    "print(\"Accuracy:\", accuracy_score(y_test, y_pred))\n",
    "print(classification_report(y_test, y_pred))"
   ]
  }
 ],
 "metadata": {},
 "nbformat": 4,
 "nbformat_minor": 5
}